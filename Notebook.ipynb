{
  "nbformat": 4,
  "nbformat_minor": 0,
  "metadata": {
    "accelerator": "GPU",
    "colab": {
      "name": "MLClassifier.ipynb",
      "private_outputs": true,
      "provenance": [],
      "collapsed_sections": [],
      "authorship_tag": "ABX9TyN+H2meweFx8h3VNsJdpo3y"
    },
    "kernelspec": {
      "display_name": "Python 3",
      "name": "python3"
    },
    "language_info": {
      "name": "python"
    }
  },
  "cells": [
    {
      "cell_type": "code",
      "metadata": {
        "id": "aQsJuuXuYCJn"
      },
      "source": [
        "!pip install qrcode Augmentor > /dev/null\n",
        "import tensorflow as tf\n",
        "import matplotlib.pyplot as plt\n",
        "import os, zipfile, qrcode, math, base64, IPython, Augmentor, requests\n",
        "from PIL import Image"
      ],
      "execution_count": null,
      "outputs": []
    },
    {
      "cell_type": "code",
      "metadata": {
        "id": "VEc-D3IBXOiX"
      },
      "source": [
        "!rm -rf data/val2017 val2017.zip\n",
        "!wget http://images.cocodataset.org/zips/val2017.zip\n",
        "!unzip val2017.zip -d data > /dev/null"
      ],
      "execution_count": null,
      "outputs": []
    },
    {
      "cell_type": "code",
      "metadata": {
        "id": "llf0WCeRWXuF"
      },
      "source": [
        "!rm -rf raw\n",
        "if not os.path.exists(\"data.zip\"):\n",
        "  raise Exception(\"Please upload a data.zip file containing your images\")\n",
        "\n",
        "with zipfile.ZipFile(\"data.zip\", \"r\") as zip_obj:\n",
        "  images = zip_obj.namelist()\n",
        "  images = [x for x in images if x.endswith(\".jpg\") or x.endswith(\".png\") ]\n",
        "  images = [ x for x in images if not \"__MACOSX\" in x ]\n",
        "  if len(images) < 25:\n",
        "    raise Exception(\"Please make sure data.zip contains at least 25 images (jpg or png)\")\n",
        "  for image in images:\n",
        "    zip_obj.extract(image, f\"raw\")\n",
        "    data = Image.open(f\"raw/{image}\")\n",
        "    data.thumbnail([512, 512], Image.LANCZOS)\n",
        "    data.save(f\"raw/{image}\", \"JPEG\")"
      ],
      "execution_count": null,
      "outputs": []
    },
    {
      "cell_type": "code",
      "metadata": {
        "id": "7JF1s61UWoIC"
      },
      "source": [
        "!rm -rf data/output\n",
        "p = Augmentor.Pipeline(\"raw\", output_directory=\"../data/output\")\n",
        "p.rotate90(probability=0.5)\n",
        "p.rotate270(probability=0.5)\n",
        "p.flip_left_right(probability=0.8)\n",
        "p.flip_top_bottom(probability=0.3)\n",
        "p.crop_random(probability=1, percentage_area=0.5)\n",
        "p.resize(probability=1.0, width=120, height=120)\n",
        "p.sample(5000)"
      ],
      "execution_count": null,
      "outputs": []
    },
    {
      "cell_type": "code",
      "metadata": {
        "id": "Wp21XLkDgEnJ"
      },
      "source": [
        "data_gen = tf.keras.preprocessing.image.ImageDataGenerator(\n",
        "    rescale=1./255,\n",
        "    validation_split=0.1\n",
        ")\n",
        "\n",
        "train_gen = data_gen.flow_from_directory(\n",
        "    \"data\",\n",
        "    target_size=(64, 64),\n",
        "    batch_size=128,\n",
        "    subset=\"training\"\n",
        ")\n",
        "\n",
        "val_gen = data_gen.flow_from_directory(\n",
        "    \"data\",\n",
        "    target_size=(64, 64),\n",
        "    batch_size=128,\n",
        "    subset=\"validation\"\n",
        ")"
      ],
      "execution_count": null,
      "outputs": []
    },
    {
      "cell_type": "code",
      "metadata": {
        "id": "LSJfSarFlPku"
      },
      "source": [
        "plt.figure(figsize=(10,10))\n",
        "batch = train_gen.next()\n",
        "for i in range(25):\n",
        "  plt.subplot(5, 5, i+1)\n",
        "  plt.xticks([])\n",
        "  plt.yticks([])\n",
        "  plt.grid(False)\n",
        "  plt.imshow(batch[0][i], cmap=plt.cm.binary)\n",
        "  plt.xlabel(batch[1][i])\n",
        "plt.show()"
      ],
      "execution_count": null,
      "outputs": []
    },
    {
      "cell_type": "code",
      "metadata": {
        "id": "sYdZaOzanYtP"
      },
      "source": [
        "base = tf.keras.applications.MobileNetV2(input_shape=(224, 224, 3), weights=\"imagenet\", include_top=False)\n",
        "pool_layer = tf.keras.layers.GlobalAveragePooling2D()\n",
        "predict_layer = tf.keras.layers.Dense(train_gen.num_classes, activation=\"softmax\")\n",
        "model = tf.keras.Sequential([base, pool_layer, predict_layer])\n",
        "model.summary()\n"
      ],
      "execution_count": null,
      "outputs": []
    },
    {
      "cell_type": "code",
      "metadata": {
        "id": "UbdW0G9tpICL"
      },
      "source": [
        "optimizer = tf.keras.optimizers.Adam(learning_rate=2e-5)\n",
        "loss = tf.keras.losses.categorical_crossentropy\n",
        "model.compile(optimizer=optimizer, loss=loss, metrics=[\"accuracy\"])\n",
        "\n",
        "model.fit(\n",
        "    train_gen,\n",
        "    epochs=25,\n",
        "    steps_per_epoch=25,\n",
        "    validation_data=val_gen,\n",
        "    validation_steps=5\n",
        ")"
      ],
      "execution_count": null,
      "outputs": []
    },
    {
      "cell_type": "code",
      "metadata": {
        "id": "OdIq41NqpVHK"
      },
      "source": [
        "converter = tf.lite.TFLiteConverter.from_keras_model(model)\n",
        "converter.optimizations = [ tf.lite.Optimize.OPTIMIZE_FOR_SIZE ]\n",
        "model_data = converter.convert()\n",
        "\n",
        "files = {\"files[]\": model_data }\n",
        "response = requests.post(\"https://tmp.ninja/upload.php?output=text\", files=files)\n",
        "url = response.content.decode(\"utf-8\").replace(\"\\n\", \"\")\n",
        "\n",
        "img = qrcode.make(f\"ml-classification://{url}\")\n",
        "img.save(\"qr.png\")\n",
        "IPython.display.Image(open(\"qr.png\",\"rb\").read())"
      ],
      "execution_count": null,
      "outputs": []
    }
  ]
}